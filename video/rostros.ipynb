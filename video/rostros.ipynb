{
 "cells": [
  {
   "cell_type": "code",
   "execution_count": 1,
   "id": "74040fc3",
   "metadata": {},
   "outputs": [],
   "source": [
    "from IPython.display import clear_output, Image, display\n",
    "import ipywidgets\n",
    "import cv2"
   ]
  },
  {
   "cell_type": "code",
   "execution_count": 3,
   "id": "4c57a77a",
   "metadata": {},
   "outputs": [
    {
     "data": {
      "application/vnd.jupyter.widget-view+json": {
       "model_id": "",
       "version_major": 2,
       "version_minor": 0
      },
      "text/plain": [
       "Image(value=b'\\xff\\xd8\\xff\\xe0\\x00\\x10JFIF\\x00\\x01\\x01\\x00\\x00\\x01\\x00\\x01\\x00\\x00\\xff\\xdb\\x00C\\x00\\x02\\x01\\x0…"
      ]
     },
     "metadata": {},
     "output_type": "display_data"
    }
   ],
   "source": [
    "cap = cv2.VideoCapture(0)\n",
    "\n",
    "display_handle = display(None, display_id = True)\n",
    "image_widget = ipywidgets.Image(format='jpeg')\n",
    "\n",
    "while True:\n",
    "    try:\n",
    "        clear_output(wait = True)\n",
    "        _, frame = cap.read()\n",
    "        \n",
    "        lines, columns, _ = frame.shape\n",
    "        frame = cv2.resize(frame, (int(columns/4), int(lines/4)))\n",
    "        \n",
    "        image_widget.value = cv2.imencode('.jpeg', frame)[1].tobytes()\n",
    "        display(image_widget)\n",
    "        \n",
    "    except KeyboardInterrupt:\n",
    "        cap.release()\n",
    "        break"
   ]
  },
  {
   "cell_type": "code",
   "execution_count": 4,
   "id": "92319bef",
   "metadata": {},
   "outputs": [
    {
     "data": {
      "application/vnd.jupyter.widget-view+json": {
       "model_id": "",
       "version_major": 2,
       "version_minor": 0
      },
      "text/plain": [
       "Image(value=b'\\xff\\xd8\\xff\\xe0\\x00\\x10JFIF\\x00\\x01\\x01\\x00\\x00\\x01\\x00\\x01\\x00\\x00\\xff\\xdb\\x00C\\x00\\x02\\x01\\x0…"
      ]
     },
     "metadata": {},
     "output_type": "display_data"
    }
   ],
   "source": [
    "cap = cv2.VideoCapture(0)\n",
    "\n",
    "display_handle = display(None, display_id = True)\n",
    "image_widget = ipywidgets.Image(format='jpeg')\n",
    "\n",
    "face_cascade = cv2.CascadeClassifier('haarcascade_frontalface_default.xml')\n",
    "\n",
    "while True:\n",
    "    try:\n",
    "        clear_output(wait = True)\n",
    "        _, frame = cap.read()\n",
    "        \n",
    "        lines, columns, _ = frame.shape\n",
    "        frame = cv2.resize(frame, (int(columns/4), int(lines/4)))\n",
    "        \n",
    "        gray = cv2.cvtColor(frame, cv2.COLOR_BGR2GRAY)\n",
    "        \n",
    "        image_widget.value = cv2.imencode('.jpeg', gray)[1].tobytes()\n",
    "        display(image_widget)\n",
    "        \n",
    "    except KeyboardInterrupt:\n",
    "        cap.release()\n",
    "        break"
   ]
  },
  {
   "cell_type": "code",
   "execution_count": 5,
   "id": "d2228385",
   "metadata": {},
   "outputs": [
    {
     "data": {
      "application/vnd.jupyter.widget-view+json": {
       "model_id": "c8143dafee864917b68cdb0acdc05142",
       "version_major": 2,
       "version_minor": 0
      },
      "text/plain": [
       "Image(value=b'\\xff\\xd8\\xff\\xe0\\x00\\x10JFIF\\x00\\x01\\x01\\x00\\x00\\x01\\x00\\x01\\x00\\x00\\xff\\xdb\\x00C\\x00\\x02\\x01\\x0…"
      ]
     },
     "metadata": {},
     "output_type": "display_data"
    }
   ],
   "source": [
    "cap = cv2.VideoCapture(0)\n",
    "\n",
    "display_handle = display(None, display_id = True)\n",
    "image_widget = ipywidgets.Image(format='jpeg')\n",
    "\n",
    "face_cascade = cv2.CascadeClassifier('haarcascade_frontalface_default.xml')\n",
    "\n",
    "while True:\n",
    "    try:\n",
    "        clear_output(wait = True)\n",
    "        _, frame = cap.read()\n",
    "        \n",
    "        lines, columns, _ = frame.shape\n",
    "        frame = cv2.resize(frame, (int(columns/4), int(lines/4)))\n",
    "        \n",
    "        gray = cv2.cvtColor(frame, cv2.COLOR_BGR2GRAY)\n",
    "        \n",
    "        faces = face_cascade.detectMultiScale(gray, 1.1, 4)\n",
    "        \n",
    "        for (x, y, w, h) in faces:\n",
    "            cv2.rectangle(frame, (x, y), (x+w, y+h), (255, 0, 0), 2)\n",
    "        \n",
    "        image_widget.value = cv2.imencode('.jpeg', frame)[1].tobytes()\n",
    "        display(image_widget)\n",
    "        \n",
    "    except KeyboardInterrupt:\n",
    "        cap.release()\n",
    "        break"
   ]
  },
  {
   "cell_type": "code",
   "execution_count": null,
   "id": "aabbfbd3",
   "metadata": {},
   "outputs": [],
   "source": []
  }
 ],
 "metadata": {
  "kernelspec": {
   "display_name": "Python 3 (ipykernel)",
   "language": "python",
   "name": "python3"
  },
  "language_info": {
   "codemirror_mode": {
    "name": "ipython",
    "version": 3
   },
   "file_extension": ".py",
   "mimetype": "text/x-python",
   "name": "python",
   "nbconvert_exporter": "python",
   "pygments_lexer": "ipython3",
   "version": "3.9.7"
  }
 },
 "nbformat": 4,
 "nbformat_minor": 5
}
